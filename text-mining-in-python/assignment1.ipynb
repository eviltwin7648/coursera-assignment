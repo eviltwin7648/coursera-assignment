{
 "cells": [
  {
   "cell_type": "markdown",
   "metadata": {
    "deletable": false,
    "editable": false,
    "nbgrader": {
     "cell_type": "markdown",
     "checksum": "cacf7f4360d6d53c622742f64048f72c",
     "grade": false,
     "grade_id": "cell-8a754c8ce8a16eeb",
     "locked": true,
     "schema_version": 3,
     "solution": false,
     "task": false
    }
   },
   "source": [
    "# Assignment 1\n",
    "\n",
    "In this assignment, you'll be working with messy medical data and using regex to extract relevant infromation from the data. \n",
    "\n",
    "Each line of the `dates.txt` file corresponds to a medical note. Each note has a date that needs to be extracted, but each date is encoded in one of many formats.\n",
    "\n",
    "The goal of this assignment is to correctly identify all of the different date variants encoded in this dataset and to properly normalize and sort the dates. \n",
    "\n",
    "Here is a list of some of the variants you might encounter in this dataset:\n",
    "* 04/20/2009; 04/20/09; 4/20/09; 4/3/09\n",
    "* Mar-20-2009; Mar 20, 2009; March 20, 2009;  Mar. 20, 2009; Mar 20 2009;\n",
    "* 20 Mar 2009; 20 March 2009; 20 Mar. 2009; 20 March, 2009\n",
    "* Mar 20th, 2009; Mar 21st, 2009; Mar 22nd, 2009\n",
    "* Feb 2009; Sep 2009; Oct 2010\n",
    "* 6/2008; 12/2009\n",
    "* 2009; 2010\n",
    "\n",
    "Once you have extracted these date patterns from the text, the next step is to sort them in ascending chronological order accoring to the following rules:\n",
    "* Assume all dates in xx/xx/xx format are mm/dd/yy\n",
    "* Assume all dates where year is encoded in only two digits are years from the 1900's (e.g. 1/5/89 is January 5th, 1989)\n",
    "* If the day is missing (e.g. 9/2009), assume it is the first day of the month (e.g. September 1, 2009).\n",
    "* If the month is missing (e.g. 2010), assume it is the first of January of that year (e.g. January 1, 2010).\n",
    "* Watch out for potential typos as this is a raw, real-life derived dataset.\n",
    "\n",
    "With these rules in mind, find the correct date in each note and return a pandas Series in chronological order of the original Series' indices. **This Series should be sorted by a tie-break sort in the format of (\"extracted date\", \"original row number\").**\n",
    "\n",
    "For example if the original series was this:\n",
    "\n",
    "    0    1999\n",
    "    1    2010\n",
    "    2    1978\n",
    "    3    2015\n",
    "    4    1985\n",
    "\n",
    "Your function should return this:\n",
    "\n",
    "    0    2\n",
    "    1    4\n",
    "    2    0\n",
    "    3    1\n",
    "    4    3\n",
    "\n",
    "Your score will be calculated using [Kendall's tau](https://en.wikipedia.org/wiki/Kendall_rank_correlation_coefficient), a correlation measure for ordinal data.\n",
    "\n",
    "*This function should return a Series of length 500 and dtype int.*"
   ]
  },
  {
   "cell_type": "code",
   "execution_count": null,
   "metadata": {
    "deletable": false,
    "editable": false,
    "nbgrader": {
     "cell_type": "code",
     "checksum": "4b47ce38a503bfb1f113580f394d8667",
     "grade": false,
     "grade_id": "cell-28048f36edc32946",
     "locked": true,
     "schema_version": 3,
     "solution": false,
     "task": false
    }
   },
   "outputs": [],
   "source": [
    "import pandas as pd\n",
    "\n",
    "doc = []\n",
    "with open('assets/dates.txt') as file:\n",
    "    for line in file:\n",
    "        doc.append(line)\n",
    "\n",
    "df = pd.Series(doc)\n",
    "df.head(10)"
   ]
  },
  {
   "cell_type": "code",
   "execution_count": 3,
   "metadata": {
    "deletable": false,
    "nbgrader": {
     "cell_type": "code",
     "checksum": "3e58e227860ae4b02d6bdddd81506787",
     "grade": false,
     "grade_id": "cell-d6f35a51303ed6ff",
     "locked": false,
     "schema_version": 3,
     "solution": true,
     "task": false
    }
   },
   "outputs": [],
   "source": [
    "import re\n",
    "from datetime import datetime\n",
    "\n",
    "def date_sorter():\n",
    "    # Patterns to match the different date formats mentioned in the assignment\n",
    "    date_patterns = [\n",
    "        r'(?P<month>\\d{1,2})[\\/\\-](?P<day>\\d{1,2})[\\/\\-](?P<year>\\d{2,4})',  # MM/DD/YYYY or MM/DD/YY\n",
    "        r'(?P<month>(Jan|Feb|Mar|Apr|May|Jun|Jul|Aug|Sep|Oct|Nov|Dec)[a-z]*)[\\.]?[,\\-\\s]+(?P<day>\\d{1,2})(?:st|nd|rd|th)?[,\\-\\s]+(?P<year>\\d{4})',  # Month Day, Year (e.g., Mar 20, 2009)\n",
    "        r'(?P<day>\\d{1,2})(?:st|nd|rd|th)?[,\\-\\s]+(?P<month>(Jan|Feb|Mar|Apr|May|Jun|Jul|Aug|Sep|Oct|Nov|Dec)[a-z]*)[\\.]?[,\\-\\s]+(?P<year>\\d{4})',  # Day Month Year (e.g., 20 Mar 2009)\n",
    "        r'(?P<month>(Jan|Feb|Mar|Apr|May|Jun|Jul|Aug|Sep|Oct|Nov|Dec)[a-z]*)[\\.]?[,\\-\\s]+(?P<year>\\d{4})',  # Month YYYY (e.g., Mar 2009)\n",
    "        r'(?P<month>\\d{1,2})[\\/\\-](?P<year>\\d{4})',  # MM/YYYY\n",
    "        r'(?P<year>\\d{4})'  # YYYY\n",
    "    ]\n",
    "    \n",
    "    # This will hold the extracted dates and their original indices\n",
    "    extracted_dates = []\n",
    "    \n",
    "    # Iterate over each row of the series\n",
    "    for i, text in df.iteritems():\n",
    "        date_found = False\n",
    "        for pattern in date_patterns:\n",
    "            match = re.search(pattern, text)\n",
    "            if match:\n",
    "                date_dict = match.groupdict()\n",
    "                \n",
    "                # Default values\n",
    "                day = 1\n",
    "                month = 1\n",
    "                year = 1900\n",
    "                \n",
    "                # Handle year\n",
    "                if 'year' in date_dict and date_dict['year']:\n",
    "                    year = int(date_dict['year'])\n",
    "                    if year < 100:  # Handle two-digit years\n",
    "                        year += 1900\n",
    "                \n",
    "                # Handle month (string months)\n",
    "                if 'month' in date_dict and date_dict['month']:\n",
    "                    if date_dict['month'].isalpha():  # If month is a string (e.g., \"Mar\")\n",
    "                        month_str = date_dict['month'][:3].capitalize()\n",
    "                        month = datetime.strptime(month_str, '%b').month\n",
    "                    else:\n",
    "                        month = int(date_dict['month'])\n",
    "                \n",
    "                # Handle day\n",
    "                if 'day' in date_dict and date_dict['day']:\n",
    "                    day = int(date_dict['day'])\n",
    "                \n",
    "                # Create a datetime object\n",
    "                extracted_date = datetime(year, month, day)\n",
    "                extracted_dates.append((i, extracted_date))\n",
    "                date_found = True\n",
    "                break\n",
    "        \n",
    "        # In case no date pattern is found, skip\n",
    "        if not date_found:\n",
    "            continue\n",
    "    \n",
    "    # Sort the dates by the extracted date and tie-break by the original index\n",
    "    sorted_dates = sorted(extracted_dates, key=lambda x: (x[1], x[0]))\n",
    "    \n",
    "    # Return the original indices in the sorted order\n",
    "    return pd.Series([i for i, _ in sorted_dates])\n",
    "\n"
   ]
  },
  {
   "cell_type": "code",
   "execution_count": null,
   "metadata": {
    "deletable": false,
    "editable": false,
    "nbgrader": {
     "cell_type": "code",
     "checksum": "c0843c1f0ad2aaa45fa9ac4012f1aa43",
     "grade": true,
     "grade_id": "cell-373f878879c00996",
     "locked": true,
     "points": 4,
     "schema_version": 3,
     "solution": false,
     "task": false
    }
   },
   "outputs": [],
   "source": []
  },
  {
   "cell_type": "code",
   "execution_count": null,
   "metadata": {},
   "outputs": [],
   "source": []
  },
  {
   "cell_type": "code",
   "execution_count": null,
   "metadata": {
    "deletable": false,
    "editable": false,
    "nbgrader": {
     "cell_type": "code",
     "checksum": "0e2f5bb6bab79c07a81ec366c46c4d49",
     "grade": true,
     "grade_id": "cell-0ebae76e6cd794be",
     "locked": true,
     "points": 1,
     "schema_version": 3,
     "solution": false,
     "task": false
    }
   },
   "outputs": [],
   "source": []
  }
 ],
 "metadata": {
  "coursera": {
   "course_slug": "python-text-mining",
   "graded_item_id": "LvcWI",
   "launcher_item_id": "krne9",
   "part_id": "Mkp1I"
  },
  "kernelspec": {
   "display_name": "Python 3 (ipykernel)",
   "language": "python",
   "name": "python3"
  },
  "language_info": {
   "codemirror_mode": {
    "name": "ipython",
    "version": 3
   },
   "file_extension": ".py",
   "mimetype": "text/x-python",
   "name": "python",
   "nbconvert_exporter": "python",
   "pygments_lexer": "ipython3",
   "version": "3.9.13"
  },
  "vscode": {
   "interpreter": {
    "hash": "aee8b7b246df8f9039afb4144a1f6fd8d2ca17a180786b69acc140d282b71a49"
   }
  }
 },
 "nbformat": 4,
 "nbformat_minor": 4
}
